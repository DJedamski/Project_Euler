{
 "cells": [
  {
   "cell_type": "code",
   "execution_count": 14,
   "metadata": {
    "collapsed": false
   },
   "outputs": [
    {
     "data": {
      "text/plain": [
       "233168"
      ]
     },
     "execution_count": 14,
     "metadata": {},
     "output_type": "execute_result"
    }
   ],
   "source": [
    "# 1. Multiples of 3 and 5\n",
    "\n",
    "list=[]\n",
    "\n",
    "for i in range(1000):\n",
    "    if (i % 3 == 0) or (i % 5 == 0):\n",
    "        list.append(i)\n",
    "        \n",
    "sum(list)"
   ]
  },
  {
   "cell_type": "code",
   "execution_count": 29,
   "metadata": {
    "collapsed": false
   },
   "outputs": [
    {
     "name": "stdout",
     "output_type": "stream",
     "text": [
      "[1, 2, 3, 5, 8, 13, 21, 34, 55, 89, 144, 233, 377, 610, 987, 1597, 2584, 4181, 6765, 10946, 17711, 28657, 46368, 75025, 121393, 196418, 317811, 514229, 832040, 1346269, 2178309, 3524578, 5702887]\n",
      "[2, 8, 34, 144, 610, 2584, 10946, 46368, 196418, 832040, 3524578]\n"
     ]
    },
    {
     "data": {
      "text/plain": [
       "4613732"
      ]
     },
     "execution_count": 29,
     "metadata": {},
     "output_type": "execute_result"
    }
   ],
   "source": [
    "# 2. Even Fibonacci Numbers\n",
    "\n",
    "Seq=[1,2]\n",
    "\n",
    "for n in Seq:\n",
    "    if n > 1:\n",
    "        if Seq[-1] <= 4000000:\n",
    "            Seq.append(Seq[-1] + Seq[-2])\n",
    "\n",
    "evens=[]\n",
    "\n",
    "for n in Seq:\n",
    "    if n % 2 == 0:\n",
    "        evens.append(n)      \n",
    "\n",
    "print Seq\n",
    "print evens\n",
    "\n",
    "sum(evens) "
   ]
  },
  {
   "cell_type": "code",
   "execution_count": 36,
   "metadata": {
    "collapsed": false
   },
   "outputs": [
    {
     "name": "stdout",
     "output_type": "stream",
     "text": [
      "6857\n"
     ]
    }
   ],
   "source": [
    "# 3. Largest Prime Factor\n",
    "\n",
    "def Factor(num):\n",
    "    largestFactor = 0\n",
    "    factor = 2\n",
    "    product = 1\n",
    "\n",
    "    while product != num:\n",
    "        if num % factor == 0:\n",
    "            largestFactor = factor\n",
    "            product *= factor\n",
    "        factor += 1\n",
    "\n",
    "    return largestFactor\n",
    "\n",
    "\n",
    "print Factor(600851475143)"
   ]
  },
  {
   "cell_type": "code",
   "execution_count": null,
   "metadata": {
    "collapsed": true
   },
   "outputs": [],
   "source": []
  }
 ],
 "metadata": {
  "kernelspec": {
   "display_name": "Python 2",
   "language": "python",
   "name": "python2"
  },
  "language_info": {
   "codemirror_mode": {
    "name": "ipython",
    "version": 2
   },
   "file_extension": ".py",
   "mimetype": "text/x-python",
   "name": "python",
   "nbconvert_exporter": "python",
   "pygments_lexer": "ipython2",
   "version": "2.7.6"
  }
 },
 "nbformat": 4,
 "nbformat_minor": 0
}
